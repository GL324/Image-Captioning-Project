{
 "cells": [
  {
   "cell_type": "markdown",
   "metadata": {},
   "source": [
    "## Project: Image Captioning"
   ]
  },
  {
   "cell_type": "markdown",
   "metadata": {},
   "source": [
    "<a id='step1'></a>\n",
    "## Step 1: Explore the Data Loader"
   ]
  },
  {
   "cell_type": "code",
   "execution_count": 1,
   "metadata": {
    "scrolled": false
   },
   "outputs": [
    {
     "name": "stdout",
     "output_type": "stream",
     "text": [
      "Requirement already satisfied: nltk in /opt/conda/lib/python3.6/site-packages\n",
      "Requirement already satisfied: six in /opt/conda/lib/python3.6/site-packages (from nltk)\n",
      "\u001b[33mYou are using pip version 9.0.1, however version 18.0 is available.\n",
      "You should consider upgrading via the 'pip install --upgrade pip' command.\u001b[0m\n",
      "[nltk_data] Downloading package punkt to /root/nltk_data...\n",
      "[nltk_data]   Unzipping tokenizers/punkt.zip.\n",
      "loading annotations into memory...\n",
      "Done (t=0.91s)\n",
      "creating index...\n",
      "index created!\n",
      "[0/414113] Tokenizing captions...\n",
      "[100000/414113] Tokenizing captions...\n",
      "[200000/414113] Tokenizing captions...\n",
      "[300000/414113] Tokenizing captions...\n",
      "[400000/414113] Tokenizing captions...\n",
      "loading annotations into memory...\n",
      "Done (t=0.77s)\n",
      "creating index...\n"
     ]
    },
    {
     "name": "stderr",
     "output_type": "stream",
     "text": [
      "  0%|          | 1489/414113 [00:00<00:55, 7456.16it/s]"
     ]
    },
    {
     "name": "stdout",
     "output_type": "stream",
     "text": [
      "index created!\n",
      "Obtaining caption lengths...\n"
     ]
    },
    {
     "name": "stderr",
     "output_type": "stream",
     "text": [
      "100%|██████████| 414113/414113 [00:58<00:00, 7023.50it/s]\n"
     ]
    }
   ],
   "source": [
    "import sys\n",
    "sys.path.append('/opt/cocoapi/PythonAPI')\n",
    "from pycocotools.coco import COCO\n",
    "!pip install nltk\n",
    "import nltk\n",
    "nltk.download('punkt')\n",
    "from data_loader import get_loader\n",
    "from torchvision import transforms\n",
    "\n",
    "# Define a transform to pre-process the training images.\n",
    "transform_train = transforms.Compose([ \n",
    "    transforms.Resize(256),                          # smaller edge of image resized to 256\n",
    "    transforms.RandomCrop(224),                      # get 224x224 crop from random location\n",
    "    transforms.RandomHorizontalFlip(),               # horizontally flip image with probability=0.5\n",
    "    transforms.ToTensor(),                           # convert the PIL Image to a tensor\n",
    "    transforms.Normalize((0.485, 0.456, 0.406),      # normalize image for pre-trained model\n",
    "                         (0.229, 0.224, 0.225))])\n",
    "\n",
    "# Set the minimum word count threshold.\n",
    "vocab_threshold = 5\n",
    "\n",
    "# Specify the batch size.\n",
    "batch_size = 10\n",
    "\n",
    "# Obtain the data loader.\n",
    "data_loader = get_loader(transform=transform_train,\n",
    "                         mode='train',\n",
    "                         batch_size=batch_size,\n",
    "                         vocab_threshold=vocab_threshold,\n",
    "                         vocab_from_file=False)"
   ]
  },
  {
   "cell_type": "code",
   "execution_count": 2,
   "metadata": {
    "collapsed": true
   },
   "outputs": [],
   "source": [
    "sample_caption = 'A person doing a trick on a rail while riding a skateboard.'"
   ]
  },
  {
   "cell_type": "code",
   "execution_count": 3,
   "metadata": {},
   "outputs": [
    {
     "name": "stdout",
     "output_type": "stream",
     "text": [
      "['a', 'person', 'doing', 'a', 'trick', 'on', 'a', 'rail', 'while', 'riding', 'a', 'skateboard', '.']\n"
     ]
    }
   ],
   "source": [
    "import nltk\n",
    "\n",
    "sample_tokens = nltk.tokenize.word_tokenize(str(sample_caption).lower())\n",
    "print(sample_tokens)"
   ]
  },
  {
   "cell_type": "code",
   "execution_count": 4,
   "metadata": {},
   "outputs": [
    {
     "name": "stdout",
     "output_type": "stream",
     "text": [
      "Special start word: <start>\n",
      "[0]\n"
     ]
    }
   ],
   "source": [
    "sample_caption = []\n",
    "\n",
    "start_word = data_loader.dataset.vocab.start_word\n",
    "print('Special start word:', start_word)\n",
    "sample_caption.append(data_loader.dataset.vocab(start_word))\n",
    "print(sample_caption)"
   ]
  },
  {
   "cell_type": "code",
   "execution_count": 5,
   "metadata": {},
   "outputs": [
    {
     "name": "stdout",
     "output_type": "stream",
     "text": [
      "[0, 3, 98, 754, 3, 396, 39, 3, 1009, 207, 139, 3, 753, 18]\n"
     ]
    }
   ],
   "source": [
    "sample_caption.extend([data_loader.dataset.vocab(token) for token in sample_tokens])\n",
    "print(sample_caption)"
   ]
  },
  {
   "cell_type": "code",
   "execution_count": 6,
   "metadata": {},
   "outputs": [
    {
     "name": "stdout",
     "output_type": "stream",
     "text": [
      "Special end word: <end>\n",
      "[0, 3, 98, 754, 3, 396, 39, 3, 1009, 207, 139, 3, 753, 18, 1]\n"
     ]
    }
   ],
   "source": [
    "end_word = data_loader.dataset.vocab.end_word\n",
    "print('Special end word:', end_word)\n",
    "\n",
    "sample_caption.append(data_loader.dataset.vocab(end_word))\n",
    "print(sample_caption)"
   ]
  },
  {
   "cell_type": "code",
   "execution_count": 7,
   "metadata": {},
   "outputs": [
    {
     "name": "stdout",
     "output_type": "stream",
     "text": [
      "tensor([    0,     3,    98,   754,     3,   396,    39,     3,  1009,\n",
      "          207,   139,     3,   753,    18,     1])\n"
     ]
    }
   ],
   "source": [
    "import torch\n",
    "\n",
    "sample_caption = torch.Tensor(sample_caption).long()\n",
    "print(sample_caption)"
   ]
  },
  {
   "cell_type": "code",
   "execution_count": 8,
   "metadata": {},
   "outputs": [
    {
     "data": {
      "text/plain": [
       "{'<end>': 1,\n",
       " '<start>': 0,\n",
       " '<unk>': 2,\n",
       " 'a': 3,\n",
       " 'and': 6,\n",
       " 'clean': 5,\n",
       " 'decorated': 8,\n",
       " 'empty': 9,\n",
       " 'very': 4,\n",
       " 'well': 7}"
      ]
     },
     "execution_count": 8,
     "metadata": {},
     "output_type": "execute_result"
    }
   ],
   "source": [
    "# Preview the word2idx dictionary.\n",
    "dict(list(data_loader.dataset.vocab.word2idx.items())[:10])"
   ]
  },
  {
   "cell_type": "code",
   "execution_count": 9,
   "metadata": {},
   "outputs": [
    {
     "name": "stdout",
     "output_type": "stream",
     "text": [
      "Total number of tokens in vocabulary: 8855\n"
     ]
    }
   ],
   "source": [
    "# Print the total number of keys in the word2idx dictionary.\n",
    "print('Total number of tokens in vocabulary:', len(data_loader.dataset.vocab))"
   ]
  },
  {
   "cell_type": "code",
   "execution_count": 10,
   "metadata": {},
   "outputs": [
    {
     "name": "stdout",
     "output_type": "stream",
     "text": [
      "loading annotations into memory...\n",
      "Done (t=0.76s)\n",
      "creating index...\n",
      "index created!\n",
      "[0/414113] Tokenizing captions...\n",
      "[100000/414113] Tokenizing captions...\n",
      "[200000/414113] Tokenizing captions...\n",
      "[300000/414113] Tokenizing captions...\n",
      "[400000/414113] Tokenizing captions...\n",
      "loading annotations into memory...\n"
     ]
    },
    {
     "name": "stderr",
     "output_type": "stream",
     "text": [
      "  0%|          | 1415/414113 [00:00<01:01, 6692.50it/s]"
     ]
    },
    {
     "name": "stdout",
     "output_type": "stream",
     "text": [
      "Done (t=0.79s)\n",
      "creating index...\n",
      "index created!\n",
      "Obtaining caption lengths...\n"
     ]
    },
    {
     "name": "stderr",
     "output_type": "stream",
     "text": [
      "100%|██████████| 414113/414113 [00:58<00:00, 7101.69it/s]\n"
     ]
    }
   ],
   "source": [
    "# Modify the minimum word count threshold.\n",
    "vocab_threshold = 5\n",
    "\n",
    "# Obtain the data loader.\n",
    "data_loader = get_loader(transform=transform_train,\n",
    "                         mode='train',\n",
    "                         batch_size=batch_size,\n",
    "                         vocab_threshold=vocab_threshold,\n",
    "                         vocab_from_file=False)"
   ]
  },
  {
   "cell_type": "code",
   "execution_count": 11,
   "metadata": {},
   "outputs": [
    {
     "name": "stdout",
     "output_type": "stream",
     "text": [
      "Total number of tokens in vocabulary: 8855\n"
     ]
    }
   ],
   "source": [
    "# Print the total number of keys in the word2idx dictionary.\n",
    "print('Total number of tokens in vocabulary:', len(data_loader.dataset.vocab))"
   ]
  },
  {
   "cell_type": "code",
   "execution_count": 12,
   "metadata": {},
   "outputs": [
    {
     "name": "stdout",
     "output_type": "stream",
     "text": [
      "Special unknown word: <unk>\n",
      "All unknown words are mapped to this integer: 2\n"
     ]
    }
   ],
   "source": [
    "unk_word = data_loader.dataset.vocab.unk_word\n",
    "print('Special unknown word:', unk_word)\n",
    "\n",
    "print('All unknown words are mapped to this integer:', data_loader.dataset.vocab(unk_word))"
   ]
  },
  {
   "cell_type": "code",
   "execution_count": 13,
   "metadata": {},
   "outputs": [
    {
     "name": "stdout",
     "output_type": "stream",
     "text": [
      "2\n",
      "2\n"
     ]
    }
   ],
   "source": [
    "print(data_loader.dataset.vocab('jfkafejw'))\n",
    "print(data_loader.dataset.vocab('ieowoqjf'))"
   ]
  },
  {
   "cell_type": "code",
   "execution_count": 14,
   "metadata": {},
   "outputs": [
    {
     "name": "stdout",
     "output_type": "stream",
     "text": [
      "Vocabulary successfully loaded from vocab.pkl file!\n",
      "loading annotations into memory...\n"
     ]
    },
    {
     "name": "stderr",
     "output_type": "stream",
     "text": [
      "100%|██████████| 414113/414113 [00:58<00:00, 7062.66it/s]\n"
     ]
    },
    {
     "name": "stdout",
     "output_type": "stream",
     "text": [
      "Done (t=0.81s)\n",
      "creating index...\n",
      "index created!\n",
      "Obtaining caption lengths...\n"
     ]
    }
   ],
   "source": [
    "# Obtain the data loader (from file). Note that it runs much faster than before!\n",
    "data_loader = get_loader(transform=transform_train,\n",
    "                         mode='train',\n",
    "                         batch_size=batch_size,\n",
    "                         vocab_from_file=True)"
   ]
  },
  {
   "cell_type": "markdown",
   "metadata": {},
   "source": [
    "<a id='step2'></a>\n",
    "## Step 2: Use the Data Loader to Obtain Batches  "
   ]
  },
  {
   "cell_type": "code",
   "execution_count": 15,
   "metadata": {},
   "outputs": [
    {
     "name": "stdout",
     "output_type": "stream",
     "text": [
      "value: 10 --- count: 86334\n",
      "value: 11 --- count: 79948\n",
      "value:  9 --- count: 71934\n",
      "value: 12 --- count: 57637\n",
      "value: 13 --- count: 37645\n",
      "value: 14 --- count: 22335\n",
      "value:  8 --- count: 20771\n",
      "value: 15 --- count: 12841\n",
      "value: 16 --- count:  7729\n",
      "value: 17 --- count:  4842\n",
      "value: 18 --- count:  3104\n",
      "value: 19 --- count:  2014\n",
      "value:  7 --- count:  1597\n",
      "value: 20 --- count:  1451\n",
      "value: 21 --- count:   999\n",
      "value: 22 --- count:   683\n",
      "value: 23 --- count:   534\n",
      "value: 24 --- count:   383\n",
      "value: 25 --- count:   277\n",
      "value: 26 --- count:   215\n",
      "value: 27 --- count:   159\n",
      "value: 28 --- count:   115\n",
      "value: 29 --- count:    86\n",
      "value: 30 --- count:    58\n",
      "value: 31 --- count:    49\n",
      "value: 32 --- count:    44\n",
      "value: 34 --- count:    39\n",
      "value: 37 --- count:    32\n",
      "value: 33 --- count:    31\n",
      "value: 35 --- count:    31\n",
      "value: 36 --- count:    26\n",
      "value: 38 --- count:    18\n",
      "value: 39 --- count:    18\n",
      "value: 43 --- count:    16\n",
      "value: 44 --- count:    16\n",
      "value: 48 --- count:    12\n",
      "value: 45 --- count:    11\n",
      "value: 42 --- count:    10\n",
      "value: 40 --- count:     9\n",
      "value: 49 --- count:     9\n",
      "value: 46 --- count:     9\n",
      "value: 47 --- count:     7\n",
      "value: 50 --- count:     6\n",
      "value: 51 --- count:     6\n",
      "value: 41 --- count:     6\n",
      "value: 52 --- count:     5\n",
      "value: 54 --- count:     3\n",
      "value: 56 --- count:     2\n",
      "value:  6 --- count:     2\n",
      "value: 53 --- count:     2\n",
      "value: 55 --- count:     2\n",
      "value: 57 --- count:     1\n"
     ]
    }
   ],
   "source": [
    "from collections import Counter\n",
    "\n",
    "# Tally the total number of training captions with each length.\n",
    "counter = Counter(data_loader.dataset.caption_lengths)\n",
    "lengths = sorted(counter.items(), key=lambda pair: pair[1], reverse=True)\n",
    "for value, count in lengths:\n",
    "    print('value: %2d --- count: %5d' % (value, count))"
   ]
  },
  {
   "cell_type": "code",
   "execution_count": 17,
   "metadata": {
    "scrolled": false
   },
   "outputs": [
    {
     "name": "stdout",
     "output_type": "stream",
     "text": [
      "sampled indices: [353711, 137357, 181858, 238748, 181664, 141062, 160531, 359647, 147030, 338134]\n",
      "images.shape: torch.Size([10, 3, 224, 224])\n",
      "captions.shape: torch.Size([10, 13])\n",
      "images: tensor([[[[ 2.0434,  2.0434,  2.0434,  ...,  0.6221,  0.6734,  0.7591],\n",
      "          [ 2.0263,  2.0092,  1.9749,  ...,  0.6906,  0.7077,  0.7591],\n",
      "          [ 2.0263,  1.9749,  1.9578,  ...,  0.6563,  0.6563,  0.7077],\n",
      "          ...,\n",
      "          [ 2.1462,  2.0605,  2.0948,  ...,  1.4098,  1.3755,  1.3755],\n",
      "          [ 2.0605,  2.0434,  2.0605,  ...,  1.3927,  1.3927,  1.4098],\n",
      "          [ 2.0948,  2.0948,  2.0605,  ...,  1.4440,  1.3242,  1.3413]],\n",
      "\n",
      "         [[ 0.7304,  0.7304,  0.6954,  ...,  0.7479,  0.8004,  0.9055],\n",
      "          [ 0.7129,  0.6954,  0.6429,  ...,  0.8179,  0.8354,  0.8880],\n",
      "          [ 0.6954,  0.6604,  0.6604,  ...,  0.7829,  0.7829,  0.8354],\n",
      "          ...,\n",
      "          [ 0.8354,  0.8004,  0.8704,  ...,  1.5532,  1.4832,  1.4657],\n",
      "          [ 0.7304,  0.7829,  0.8529,  ...,  1.5007,  1.4832,  1.4657],\n",
      "          [ 0.7479,  0.8004,  0.8529,  ...,  1.5532,  1.3957,  1.4132]],\n",
      "\n",
      "         [[ 1.0539,  1.0714,  1.0365,  ...,  0.9319,  0.9494,  1.0365],\n",
      "          [ 0.9842,  0.9842,  0.9494,  ...,  0.9668,  0.9842,  1.0365],\n",
      "          [ 0.9319,  0.9145,  0.9319,  ...,  0.9494,  0.9319,  1.0191],\n",
      "          ...,\n",
      "          [ 1.1411,  1.1062,  1.2108,  ...,  1.6640,  1.5594,  1.5245],\n",
      "          [ 1.0714,  1.1062,  1.1585,  ...,  1.6465,  1.5768,  1.5768],\n",
      "          [ 1.1062,  1.1585,  1.1585,  ...,  1.7337,  1.5594,  1.5594]]],\n",
      "\n",
      "\n",
      "        [[[ 1.2043,  1.1529,  1.1358,  ...,  0.5536,  0.3652,  0.2453],\n",
      "          [ 1.2728,  1.2385,  1.1872,  ...,  0.3138,  0.2111,  0.1254],\n",
      "          [ 1.3242,  1.3242,  1.2728,  ...,  0.1597,  0.0912,  0.0227],\n",
      "          ...,\n",
      "          [ 0.3138,  0.3309,  0.3309,  ...,  0.2453,  0.1254,  0.0398],\n",
      "          [ 0.2111,  0.2282,  0.2111,  ...,  0.2967,  0.3309,  0.3138],\n",
      "          [ 0.1597,  0.2282,  0.2111,  ...,  0.2624,  0.1768,  0.1768]],\n",
      "\n",
      "         [[ 1.4657,  1.4132,  1.4132,  ...,  0.8880,  0.7304,  0.6604],\n",
      "          [ 1.5182,  1.5007,  1.4482,  ...,  0.7129,  0.6254,  0.5553],\n",
      "          [ 1.5532,  1.5882,  1.5357,  ...,  0.5903,  0.5378,  0.4678],\n",
      "          ...,\n",
      "          [ 0.2402,  0.2577,  0.2577,  ...,  0.1702,  0.0476, -0.0399],\n",
      "          [ 0.1527,  0.1527,  0.1352,  ...,  0.2227,  0.2577,  0.2577],\n",
      "          [ 0.1001,  0.1527,  0.1352,  ...,  0.1877,  0.1001,  0.1001]],\n",
      "\n",
      "         [[ 1.6814,  1.6291,  1.6291,  ...,  1.2631,  1.1237,  1.0888],\n",
      "          [ 1.7163,  1.6988,  1.6640,  ...,  1.1237,  1.0539,  1.0365],\n",
      "          [ 1.7511,  1.7685,  1.7163,  ...,  1.0714,  1.0365,  1.0017],\n",
      "          ...,\n",
      "          [-0.0092,  0.0256,  0.0605,  ..., -0.0615, -0.1835, -0.2532],\n",
      "          [-0.0964, -0.0790, -0.0790,  ..., -0.0092,  0.0256,  0.0431],\n",
      "          [-0.1661, -0.0964, -0.1138,  ..., -0.0441, -0.1312, -0.1138]]],\n",
      "\n",
      "\n",
      "        [[[ 0.7077,  0.7248,  0.6221,  ...,  2.1462,  2.1633,  2.1633],\n",
      "          [ 0.6563,  0.5878,  0.6049,  ...,  2.1633,  2.1462,  2.1290],\n",
      "          [ 0.6392,  0.6563,  0.6221,  ...,  2.1462,  2.1462,  2.1462],\n",
      "          ...,\n",
      "          [ 0.2967,  0.3309,  0.3652,  ..., -1.4329, -1.5699, -1.5014],\n",
      "          [ 0.2967,  0.2453,  0.2796,  ..., -1.6384, -1.6042, -1.5870],\n",
      "          [ 0.2796,  0.3823,  0.3481,  ..., -1.6384, -1.5870, -1.6384]],\n",
      "\n",
      "         [[ 1.8859,  1.8859,  1.9034,  ...,  2.3936,  2.3936,  2.3761],\n",
      "          [ 1.8683,  1.8859,  1.9034,  ...,  2.4111,  2.4286,  2.4111],\n",
      "          [ 1.9034,  1.8859,  1.9034,  ...,  2.3936,  2.4111,  2.4111],\n",
      "          ...,\n",
      "          [-0.6702, -0.5826, -0.3550,  ..., -1.1078, -1.1604, -1.1253],\n",
      "          [-0.6001, -0.6352, -0.5476,  ..., -1.1779, -1.2304, -1.2304],\n",
      "          [-0.6702, -0.5476, -0.5476,  ..., -1.1779, -1.1954, -1.2304]],\n",
      "\n",
      "         [[ 2.6051,  2.5877,  2.5354,  ...,  2.6226,  2.6226,  2.6051],\n",
      "          [ 2.5703,  2.5180,  2.5354,  ...,  2.6400,  2.6400,  2.6226],\n",
      "          [ 2.5703,  2.5354,  2.5529,  ...,  2.6226,  2.6226,  2.6400],\n",
      "          ...,\n",
      "          [-0.7238, -0.6541, -0.5321,  ..., -0.9504, -1.0027, -0.9330],\n",
      "          [-0.6367, -0.6367, -0.6193,  ..., -1.0201, -1.0201, -1.0376],\n",
      "          [-0.6715, -0.6367, -0.5321,  ..., -0.9853, -0.9678, -1.0376]]],\n",
      "\n",
      "\n",
      "        ...,\n",
      "\n",
      "\n",
      "        [[[-0.3027, -0.2171, -0.1314,  ..., -0.4054, -0.4226, -0.3883],\n",
      "          [-0.2513, -0.2684, -0.2684,  ..., -0.3883, -0.3883, -0.4226],\n",
      "          [-0.2171, -0.2684, -0.2856,  ..., -0.4054, -0.4226, -0.4226],\n",
      "          ...,\n",
      "          [-0.5596, -0.5596, -0.5767,  ..., -1.2788, -1.3644, -1.3987],\n",
      "          [-0.5596, -0.5938, -0.5596,  ..., -1.3302, -1.2617, -1.4158],\n",
      "          [-0.6109, -0.5424, -0.5253,  ..., -1.3130, -1.1760, -1.3473]],\n",
      "\n",
      "         [[-0.3025, -0.3200, -0.2850,  ..., -0.4076, -0.4601, -0.4601],\n",
      "          [-0.3375, -0.3200, -0.3200,  ..., -0.4076, -0.3901, -0.4251],\n",
      "          [-0.2850, -0.3025, -0.3375,  ..., -0.3901, -0.4076, -0.4251],\n",
      "          ...,\n",
      "          [-1.3004, -1.3529, -1.3354,  ..., -1.6155, -1.5455, -1.5805],\n",
      "          [-1.3354, -1.3529, -1.3354,  ..., -1.5805, -1.5455, -1.6331],\n",
      "          [-1.4055, -1.3179, -1.3354,  ..., -1.5630, -1.5105, -1.5630]],\n",
      "\n",
      "         [[-0.4624, -0.4450, -0.4973,  ..., -0.4101, -0.3927, -0.3404],\n",
      "          [-0.4275, -0.3927, -0.4275,  ..., -0.3404, -0.4101, -0.4275],\n",
      "          [-0.3578, -0.3753, -0.3927,  ..., -0.3927, -0.4798, -0.4450],\n",
      "          ...,\n",
      "          [-1.6302, -1.6302, -1.6127,  ..., -1.3164, -1.2990, -1.3339],\n",
      "          [-1.6476, -1.6476, -1.6302,  ..., -1.4559, -1.3339, -1.4733],\n",
      "          [-1.6476, -1.5604, -1.6476,  ..., -1.3164, -1.2293, -1.2816]]],\n",
      "\n",
      "\n",
      "        [[[ 0.3481,  0.1768,  0.2624,  ...,  0.3823,  0.3309,  0.3481],\n",
      "          [ 0.3309,  0.2111,  0.2624,  ...,  0.3652,  0.3823,  0.3652],\n",
      "          [ 0.2282,  0.2282,  0.2967,  ...,  0.4166,  0.5022,  0.3994],\n",
      "          ...,\n",
      "          [ 0.1426,  0.1939,  0.3481,  ..., -0.2171, -0.3027, -0.1828],\n",
      "          [ 0.2453,  0.4337,  0.5707,  ...,  0.0398, -0.0287, -0.1999],\n",
      "          [ 0.2624,  0.3823,  0.5193,  ...,  0.0741,  0.2111,  0.0569]],\n",
      "\n",
      "         [[ 0.5728,  0.4153,  0.4853,  ...,  0.6604,  0.5903,  0.5903],\n",
      "          [ 0.5203,  0.4328,  0.5028,  ...,  0.6429,  0.6429,  0.6254],\n",
      "          [ 0.3803,  0.3978,  0.5028,  ...,  0.6779,  0.7654,  0.6604],\n",
      "          ...,\n",
      "          [ 0.2577,  0.3102,  0.4328,  ...,  0.0126, -0.0574,  0.0476],\n",
      "          [ 0.4153,  0.5728,  0.6604,  ...,  0.2752,  0.1352, -0.0574],\n",
      "          [ 0.3978,  0.4853,  0.5728,  ...,  0.1527,  0.2227,  0.0301]],\n",
      "\n",
      "         [[ 1.0888,  0.9145,  0.9494,  ...,  1.0539,  1.0017,  0.9842],\n",
      "          [ 1.0539,  0.9319,  0.9668,  ...,  1.0191,  1.0365,  1.0017],\n",
      "          [ 0.9145,  0.9145,  0.9668,  ...,  1.0365,  1.1062,  1.0017],\n",
      "          ...,\n",
      "          [ 0.1476,  0.2522,  0.4439,  ..., -0.5495, -0.6193, -0.4624],\n",
      "          [ 0.2871,  0.5485,  0.6705,  ..., -0.2184, -0.2707, -0.4275],\n",
      "          [ 0.3045,  0.4614,  0.6356,  ..., -0.3404, -0.1138, -0.1835]]],\n",
      "\n",
      "\n",
      "        [[[-2.0323, -2.0323, -2.0323,  ..., -2.0323, -2.0323, -2.0323],\n",
      "          [-2.0323, -2.0494, -2.0323,  ..., -2.0494, -2.0323, -2.0323],\n",
      "          [-2.0323, -2.0323, -2.0323,  ..., -2.0323, -2.0323, -2.0494],\n",
      "          ...,\n",
      "          [-0.6109, -0.7650, -0.6623,  ...,  0.2624,  0.6563,  1.8550],\n",
      "          [-0.6794, -0.8678, -0.6623,  ...,  0.4679,  0.5878,  1.5639],\n",
      "          [-0.7479, -0.9192, -0.7137,  ...,  0.6049,  0.2453,  0.2624]],\n",
      "\n",
      "         [[-1.9482, -1.9482, -1.9482,  ..., -1.9482, -1.9482, -1.9482],\n",
      "          [-1.9482, -1.9657, -1.9482,  ..., -1.9657, -1.9482, -1.9482],\n",
      "          [-1.9482, -1.9482, -1.9482,  ..., -1.9482, -1.9482, -1.9657],\n",
      "          ...,\n",
      "          [ 0.1176, -0.0399,  0.0126,  ...,  0.3978,  0.9580,  2.1310],\n",
      "          [ 0.0301, -0.1275,  0.0301,  ...,  0.6078,  0.8179,  1.7983],\n",
      "          [-0.0399, -0.1800, -0.0049,  ...,  0.7479,  0.4853,  0.5028]],\n",
      "\n",
      "         [[-1.7173, -1.7173, -1.7173,  ..., -1.7173, -1.7173, -1.7173],\n",
      "          [-1.7173, -1.7347, -1.7173,  ..., -1.7347, -1.7173, -1.7173],\n",
      "          [-1.7173, -1.7173, -1.7173,  ..., -1.7173, -1.7173, -1.7347],\n",
      "          ...,\n",
      "          [ 1.1062,  1.1062,  1.1411,  ...,  0.6531,  1.3502,  2.4483],\n",
      "          [ 1.0539,  0.9319,  1.1237,  ...,  1.0365,  1.2282,  2.1868],\n",
      "          [ 0.9842,  0.8797,  1.0888,  ...,  1.0888,  0.8971,  1.2108]]]])\n",
      "captions: tensor([[    0,     3,    35,    29,    30,    21,     3,    33,    30,\n",
      "            45,    46,    18,     1],\n",
      "        [    0,     3,    98,  2815,     3,  4171,  2447,  1961,    39,\n",
      "             3,    55,    18,     1],\n",
      "        [    0,    47,  2457,   209,   934,    39,   228,    33,    21,\n",
      "           438,     2,    18,     1],\n",
      "        [    0,     3,    80,    13,    51,   224,   192,   685,    21,\n",
      "           147,  6054,    18,     1],\n",
      "        [    0,     3,  2673,   530,    13,    47,   426,    21,  8054,\n",
      "             6,  1291,    18,     1],\n",
      "        [    0,    32,   253,   169,   130,   139,   160,   753,    54,\n",
      "            32,   229,    18,     1],\n",
      "        [    0,     3,    60,     6,    20,   115,   170,    77,    32,\n",
      "          1139,   260,    18,     1],\n",
      "        [    0,     3,    91,   355,     3,   516,   147,    21,     3,\n",
      "           654,  2939,    18,     1],\n",
      "        [    0,    50,  1751,   208,   131,    39,   136,    77,     3,\n",
      "          2184,   191,    18,     1],\n",
      "        [    0,     3,    91,   505,   207,   360,    32,  2671,    13,\n",
      "           263,   359,    18,     1]])\n"
     ]
    }
   ],
   "source": [
    "import numpy as np\n",
    "import torch.utils.data as data\n",
    "\n",
    "# Randomly sample a caption length, and sample indices with that length.\n",
    "indices = data_loader.dataset.get_train_indices()\n",
    "print('sampled indices:', indices)\n",
    "\n",
    "# Create and assign a batch sampler to retrieve a batch with the sampled indices.\n",
    "new_sampler = data.sampler.SubsetRandomSampler(indices=indices)\n",
    "data_loader.batch_sampler.sampler = new_sampler\n",
    "    \n",
    "# Obtain the batch.\n",
    "images, captions = next(iter(data_loader))\n",
    "    \n",
    "print('images.shape:', images.shape)\n",
    "print('captions.shape:', captions.shape)\n",
    "\n",
    "# (Optional) Uncomment the lines of code below to print the pre-processed images and captions.\n",
    "print('images:', images)\n",
    "print('captions:', captions)"
   ]
  },
  {
   "cell_type": "markdown",
   "metadata": {},
   "source": [
    "<a id='step3'></a>\n",
    "## Step 3: Experiment with the CNN Encoder"
   ]
  },
  {
   "cell_type": "code",
   "execution_count": 18,
   "metadata": {
    "collapsed": true
   },
   "outputs": [],
   "source": [
    "# Watch for any changes in model.py, and re-load it automatically.\n",
    "% load_ext autoreload\n",
    "# %reload_ext autoreload\n",
    "% autoreload 2\n",
    "\n",
    "# Import EncoderCNN and DecoderRNN. \n",
    "from model import EncoderCNN, DecoderRNN"
   ]
  },
  {
   "cell_type": "code",
   "execution_count": 19,
   "metadata": {},
   "outputs": [
    {
     "name": "stdout",
     "output_type": "stream",
     "text": [
      "cuda\n"
     ]
    }
   ],
   "source": [
    "device = torch.device(\"cuda\" if torch.cuda.is_available() else \"cpu\")\n",
    "print(\"cuda\" if torch.cuda.is_available() else \"cpu\")"
   ]
  },
  {
   "cell_type": "code",
   "execution_count": 20,
   "metadata": {},
   "outputs": [
    {
     "name": "stderr",
     "output_type": "stream",
     "text": [
      "Downloading: \"https://download.pytorch.org/models/resnet50-19c8e357.pth\" to /root/.torch/models/resnet50-19c8e357.pth\n",
      "100%|██████████| 102502400/102502400 [00:03<00:00, 29914649.74it/s]\n"
     ]
    },
    {
     "name": "stdout",
     "output_type": "stream",
     "text": [
      "type(features): <class 'torch.Tensor'>\n",
      "features.shape: torch.Size([10, 256])\n"
     ]
    }
   ],
   "source": [
    "# Specify the dimensionality of the image embedding.\n",
    "embed_size = 256\n",
    "\n",
    "#-#-#-# Do NOT modify the code below this line. #-#-#-#\n",
    "\n",
    "# Initialize the encoder. (Optional: Add additional arguments if necessary.)\n",
    "encoder = EncoderCNN(embed_size)\n",
    "\n",
    "# Move the encoder to GPU if CUDA is available.\n",
    "encoder.to(device)\n",
    "    \n",
    "# Move last batch of images (from Step 2) to GPU if CUDA is available.   \n",
    "images = images.to(device)\n",
    "\n",
    "# Pass the images through the encoder.\n",
    "features = encoder(images)\n",
    "\n",
    "print('type(features):', type(features))\n",
    "print('features.shape:', features.shape)\n",
    "\n",
    "# Check that your encoder satisfies some requirements of the project! :D\n",
    "assert type(features)==torch.Tensor, \"Encoder output needs to be a PyTorch Tensor.\" \n",
    "assert (features.shape[0]==batch_size) & (features.shape[1]==embed_size), \"The shape of the encoder output is incorrect.\""
   ]
  },
  {
   "cell_type": "markdown",
   "metadata": {},
   "source": [
    "<a id='step4'></a>\n",
    "## Step 4: Implement the RNN Decoder"
   ]
  },
  {
   "cell_type": "code",
   "execution_count": 21,
   "metadata": {},
   "outputs": [
    {
     "name": "stdout",
     "output_type": "stream",
     "text": [
      "type(outputs): <class 'torch.Tensor'>\n",
      "outputs.shape: torch.Size([10, 13, 8855])\n"
     ]
    }
   ],
   "source": [
    "# Specify the number of features in the hidden state of the RNN decoder.\n",
    "hidden_size = 512\n",
    "\n",
    "#-#-#-# Do NOT modify the code below this line. #-#-#-#\n",
    "\n",
    "# Store the size of the vocabulary.\n",
    "vocab_size = len(data_loader.dataset.vocab)\n",
    "\n",
    "# Initialize the decoder.\n",
    "decoder = DecoderRNN(embed_size, hidden_size, vocab_size)\n",
    "\n",
    "# Move the decoder to GPU if CUDA is available.\n",
    "decoder.to(device)\n",
    "    \n",
    "# Move last batch of captions (from Step 1) to GPU if CUDA is available \n",
    "captions = captions.to(device)\n",
    "\n",
    "# Pass the encoder output and captions through the decoder.\n",
    "outputs = decoder(features, captions)\n",
    "\n",
    "print('type(outputs):', type(outputs))\n",
    "print('outputs.shape:', outputs.shape)\n",
    "\n",
    "# Check that your decoder satisfies some requirements of the project! :D\n",
    "assert type(outputs)==torch.Tensor, \"Decoder output needs to be a PyTorch Tensor.\"\n",
    "assert (outputs.shape[0]==batch_size) & (outputs.shape[1]==captions.shape[1]) & (outputs.shape[2]==vocab_size), \"The shape of the decoder output is incorrect.\""
   ]
  }
 ],
 "metadata": {
  "anaconda-cloud": {},
  "kernelspec": {
   "display_name": "Python 3",
   "language": "python",
   "name": "python3"
  },
  "language_info": {
   "codemirror_mode": {
    "name": "ipython",
    "version": 3
   },
   "file_extension": ".py",
   "mimetype": "text/x-python",
   "name": "python",
   "nbconvert_exporter": "python",
   "pygments_lexer": "ipython3",
   "version": "3.5.4"
  }
 },
 "nbformat": 4,
 "nbformat_minor": 2
}
